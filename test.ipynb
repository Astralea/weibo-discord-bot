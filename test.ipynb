{
 "cells": [
  {
   "cell_type": "code",
   "execution_count": 5,
   "metadata": {},
   "outputs": [],
   "source": [
    "from selenium import webdriver\n",
    "from selenium.webdriver.chrome.service import Service\n",
    "from selenium.webdriver.chrome.options import Options\n",
    "# from webdriver_manager.chrome import ChromeDriverManager\n",
    "from selenium.webdriver.common.by import By\n",
    "import time\n",
    "import os\n",
    "import json\n",
    "import sqlite3\n",
    "from dotenv import load_dotenv\n",
    "import requests\n",
    "from datetime import datetime\n",
    "import schedule\n",
    "import pytz\n",
    "import random\n",
    "import platform\n",
    "import uuid\n",
    "from discord_webhook import DiscordWebhook, DiscordEmbed\n",
    "\n",
    "\n",
    "# Load the .env file\n",
    "load_dotenv()\n",
    "\n",
    "# Access the variables as environment variables\n",
    "WEIBO_AJAX_URL = os.getenv('WEIBO_AJAX_URL')\n",
    "WEIBO_URL = os.getenv('WEIBO_URL')\n",
    "MESSAGE_WEBHOOK_URL = os.getenv('MESSAGE_WEBHOOK_URL')\n",
    "STATUS_WEBHOOK_URL = os.getenv('STATUS_WEBHOOK_URL')\n",
    "\n",
    "\n",
    "class WeiboScrapper:\n",
    "    def __init__(self):\n",
    "        # Setup driver\n",
    "        # add headless\n",
    "        self.driver = self.new_driver()\n",
    "        # create a sqlite database to store id\n",
    "        # change to mongodb later\n",
    "        self.db = sqlite3.connect('weibo.db')\n",
    "        self.cursor = self.db.cursor()\n",
    "        self.cursor.execute('''CREATE TABLE IF NOT EXISTS weibo (id INTEGER PRIMARY KEY)''')\n",
    "        self.db.commit()\n",
    "        with open('kawaii_content.json', 'r', encoding='utf-8') as f:\n",
    "            data = json.load(f)\n",
    "        self.kawaii_emojis = data['kawaii_emojis']\n",
    "        self.kawaii_texts = data['kawaii_texts']\n",
    "        self.kawaii_titles = data['kawaii_titles']\n",
    "        self.should_delete_images = True\n",
    "        # create a folder called images in the local directory if it does not exist\n",
    "        self.image_dir='images'\n",
    "        if not os.path.exists(self.image_dir):\n",
    "            os.mkdir(self.image_dir)\n",
    "\n",
    "\n",
    "    \n",
    "    def new_driver(self):\n",
    "        # Setup driver\n",
    "        # add headless\n",
    "        service = Service()\n",
    "        options = Options()\n",
    "        options.add_argument('--headless')\n",
    "        driver = webdriver.Chrome(\\\n",
    "            service=service,options=options)\n",
    "        return driver\n",
    "\n",
    "\n",
    "    def start(self):\n",
    "        # Run the scan immediately and then every 10 minutes\n",
    "        self.scan()\n",
    "        schedule.every(10).minutes.do(self.scan)\n",
    "\n",
    "        # Run send_status immediately and then every hour\n",
    "        self.send_status()\n",
    "        schedule.every(3).hours.do(self.send_status)\n",
    "\n",
    "        while True:\n",
    "            schedule.run_pending()\n",
    "            time.sleep(1)\n",
    "        \n",
    "    def get_weibo_content_once(self):\n",
    "        # check if the driver is alive\n",
    "        if self.driver.service.is_connectable():\n",
    "            pass\n",
    "        else:\n",
    "            self.driver.quit()\n",
    "            self.driver = self.new_driver()\n",
    "\n",
    "        try:\n",
    "            self.driver.get(WEIBO_AJAX_URL)\n",
    "            # Wait for the dynamic content to load\n",
    "            time.sleep(10)\n",
    "            self.driver.implicitly_wait(20)\n",
    "            pre_tag = self.driver.find_element(By.TAG_NAME, 'pre')\n",
    "            json_text = pre_tag.text\n",
    "        except Exception as e:\n",
    "            print(e)\n",
    "            return None\n",
    "        content = json.loads(json_text) # content is a dictionary\n",
    "        return content['data']['list']\n",
    "    \n",
    "    def check_id(self,item):\n",
    "        # if id is not in the database, return True\n",
    "        # else return False\n",
    "        weibo_item_id=item['id']\n",
    "        self.cursor.execute('''SELECT * FROM weibo WHERE id=?''',(weibo_item_id,))\n",
    "        if self.cursor.fetchone() is None:\n",
    "            #write the id to the database\n",
    "            self.cursor.execute('''INSERT INTO weibo (id) VALUES (?)''',(weibo_item_id,))\n",
    "            self.db.commit()\n",
    "            return True\n",
    "        else:\n",
    "            return False       \n",
    "\n",
    "    def get_weibo_content_loop(self):\n",
    "        i=0\n",
    "        print(f'getting weibo content... @ {datetime.now()}')\n",
    "        while True:\n",
    "            content = self.get_weibo_content_once()\n",
    "            if content:\n",
    "                break   \n",
    "            print('retrying...')\n",
    "            time.sleep(60)\n",
    "            i+=1\n",
    "            print(i)\n",
    "            if i>10:\n",
    "                print('failed')\n",
    "                return None\n",
    "        return content\n",
    "\n",
    "    def scan(self):\n",
    "        content = self.get_weibo_content_loop()\n",
    "        if content:\n",
    "            for item in content:\n",
    "                if self.check_id(item):\n",
    "                    self.parse_item(item)\n",
    "                    time.sleep(5)\n",
    "        else:\n",
    "            print('failed to get content')\n",
    "            return None\n",
    "        \n",
    "\n",
    "    def image_download(self,url:str):\n",
    "        response = requests.get(url) #stream value doesn't matter\n",
    "        if response.status_code == 200:\n",
    "            # use uuid to generate a random file name with the same extension\n",
    "            file_name = str(uuid.uuid4()) + os.path.splitext(url)[1]\n",
    "            file_path = os.path.join('images',file_name)\n",
    "            with open(file_path, 'wb') as f:\n",
    "                f.write(response.content)\n",
    "            return file_path\n",
    "        else:\n",
    "            print(\"Unable to download image. HTTP response code:\", response.status_code)\n",
    "\n",
    "    def images_download(self,URLs:list):\n",
    "        # download all images in the list to the local folder ./images\n",
    "        # return a list of local file paths\n",
    "        file_paths = []\n",
    "        for url in URLs:\n",
    "            file_path = self.image_download(url)\n",
    "            file_paths.append(file_path)\n",
    "        return file_paths\n",
    "\n",
    "    def images_delete(self,file_paths:list):\n",
    "        # delete all images in the list\n",
    "        # notice that file_paths could be status code\n",
    "        for file_path in file_paths:\n",
    "            if type(file_path) == str:\n",
    "                os.remove(file_path)\n",
    "\n",
    "    def parse_item(self,item):\n",
    "        self.webhook_message = DiscordWebhook(url=MESSAGE_WEBHOOK_URL)\n",
    "        text_raw = item['text_raw']\n",
    "        created_at = item['created_at']\n",
    "        title=\"塔菲の新微博喵~\"\n",
    "        source= item['source']\n",
    "        # use discord embed to display the content\n",
    "        embed_color = 16738740\n",
    "        dt = datetime.strptime(created_at, '%a %b %d %H:%M:%S %z %Y')\n",
    "        discord_timestamp = dt.timestamp()\n",
    "        # create the webhook\n",
    "        # create the embed object\n",
    "        embed = DiscordEmbed(title=title, description=text_raw, color=embed_color, url=WEIBO_URL)\n",
    "        embed.set_footer(text=f\"来自 {source}\")\n",
    "        embed.set_timestamp(discord_timestamp)\n",
    "        if 'pic_infos' in item.keys():\n",
    "            return self.parse_item_with_images(item,embed)\n",
    "        elif 'page_info' in item.keys():\n",
    "            return self.parse_item_with_video(item,embed)\n",
    "        elif 'retweeted_status' in item.keys():\n",
    "            return self.parse_item_retweet(item,embed)\n",
    "        else:\n",
    "            return self.parse_item_text_only(item,embed)\n",
    "\n",
    "    def parse_item_text_only(self, item, embed):\n",
    "        # add the embed object to the webhook\n",
    "        self.webhook_message.add_embed(embed)\n",
    "        # execute the webhook\n",
    "        response = self.webhook_message.execute()\n",
    "        # check the response\n",
    "        return response.status_code\n",
    "    \n",
    "    def parse_item_with_images(self, item, embed):\n",
    "        #TODO: collage the images\n",
    "        image_urls = [v['original']['url'] for k,v in item['pic_infos'].items()]\n",
    "        image_filepaths = self.images_download(image_urls)\n",
    "        # use discord embed to display the content\n",
    "        image_filenames = [os.path.basename(image_filepath) for image_filepath in image_filepaths]\n",
    "        \n",
    "        image_name = image_filenames[0]\n",
    "        with open(os.path.join(self.image_dir,image_name ), \"rb\") as f:\n",
    "            self.webhook_message.add_file(file=f.read(), filename=image_name )\n",
    "        embed.set_image(url=f'attachment://{image_name}')\n",
    "\n",
    "\n",
    "        self.webhook_message.add_embed(embed)\n",
    "        response = self.webhook_message.execute()\n",
    "        if self.should_delete_images:\n",
    "            self.images_delete(image_filepaths)\n",
    "        return response.status_code\n",
    "\n",
    "    def parse_item_with_video(self,item, embed):\n",
    "        video_url=item['page_info']['media_info']['stream_url']\n",
    "\n",
    "        video_webhook = DiscordWebhook(url=MESSAGE_WEBHOOK_URL,content=video_url)\n",
    "        self.webhook_message.add_embed(embed)\n",
    "        response1 = self.webhook_message.execute()\n",
    "        response2 = video_webhook.execute()\n",
    "        # return 200 if both requests are successful(200,204, etc., start with 2)\n",
    "        # otherwise return the status code of the first failed request\n",
    "        if response1.status_code < 300 and response2.status_code < 300:\n",
    "            return 200\n",
    "        elif response1.status_code < 300 and response2.status_code >= 300:\n",
    "            return response2.status_code\n",
    "        else:\n",
    "            return response1.status_code\n",
    "    \n",
    "    def parse_item_retweet(self,item, embed):\n",
    "        #TODO: add images\n",
    "        # content[7]['retweeted_status']['pic_infos']\n",
    "        retweet_text = item['retweeted_status']['text_raw']\n",
    "        user_name=item['retweeted_status']['user']['screen_name']\n",
    "        embed.add_embed_field(name=user_name, value=retweet_text)\n",
    "        self.webhook_message.add_embed(embed)\n",
    "        response = self.webhook_message.execute()\n",
    "        return response.status_code\n",
    "        \n",
    "\n",
    "    def send_status(self):\n",
    "        # send status to discord, say that the script is running, add some random kawaii emoji and text\n",
    "        # use discord embed to display the content\n",
    "        self.webhook_status = DiscordWebhook(url=STATUS_WEBHOOK_URL)\n",
    "        embed_color = 16738740\n",
    "        emoji = random.choice(self.kawaii_emojis)\n",
    "        text = random.choice(self.kawaii_texts)\n",
    "        title = random.choice(self.kawaii_titles)\n",
    "        if platform.system() == 'Windows':\n",
    "            machine_info = f\"{platform.node()} {platform.machine()}\"\n",
    "        else:\n",
    "            machine_info = f\"{os.uname().nodename} {os.uname().machine}\"\n",
    "        # TODO: use chatgpt to generate random text\n",
    "        # get current time, up to seconds, timezone GMT+9\n",
    "        timezone = pytz.timezone('Etc/GMT-9')\n",
    "        # Get current time up to seconds in GMT+9\n",
    "        time_now = datetime.now(timezone).strftime('%Y-%m-%d %H:%M:%S %Z')\n",
    "\n",
    "        embed = DiscordEmbed(title=title, \\\n",
    "                             description=f\"{emoji} {text} @ {time_now} -- {machine_info}\",\\\n",
    "                                  color=embed_color, \\\n",
    "                                    url=STATUS_WEBHOOK_URL)\n",
    "        embed.set_timestamp()\n",
    "        self.webhook_status.add_embed(embed)\n",
    "        # execute the webhook\n",
    "        response = self.webhook_status.execute()\n",
    "        # check the response\n",
    "        return response.status_code"
   ]
  },
  {
   "cell_type": "code",
   "execution_count": 6,
   "metadata": {},
   "outputs": [],
   "source": [
    "scraper = WeiboScrapper()\n",
    "# scraper.start()\n"
   ]
  },
  {
   "cell_type": "code",
   "execution_count": 3,
   "metadata": {},
   "outputs": [
    {
     "name": "stdout",
     "output_type": "stream",
     "text": [
      "getting weibo content... @ 2023-07-25 22:51:52.139219\n"
     ]
    }
   ],
   "source": [
    "scraper = WeiboScrapper()\n",
    "content = scraper.get_weibo_content_loop()\n",
    "\n",
    "\n",
    "# with open('weibo_content.json', 'r', encoding='utf-8') as f:\n",
    "#     content = json.load(f)"
   ]
  },
  {
   "cell_type": "code",
   "execution_count": 7,
   "metadata": {},
   "outputs": [],
   "source": [
    "scraper.should_delete_images = False"
   ]
  },
  {
   "cell_type": "code",
   "execution_count": 9,
   "metadata": {},
   "outputs": [
    {
     "data": {
      "text/plain": [
       "200"
      ]
     },
     "execution_count": 9,
     "metadata": {},
     "output_type": "execute_result"
    }
   ],
   "source": [
    "scraper.parse_item(content[1])"
   ]
  },
  {
   "cell_type": "code",
   "execution_count": 72,
   "metadata": {},
   "outputs": [
    {
     "name": "stdout",
     "output_type": "stream",
     "text": [
      "200\n"
     ]
    }
   ],
   "source": [
    "scraper = WeiboScrapper()\n",
    "response=scraper.parse_item(content[7])\n",
    "print(response)"
   ]
  },
  {
   "cell_type": "code",
   "execution_count": 4,
   "metadata": {},
   "outputs": [
    {
     "ename": "KeyError",
     "evalue": "'retweeted_status'",
     "output_type": "error",
     "traceback": [
      "\u001b[1;31m---------------------------------------------------------------------------\u001b[0m",
      "\u001b[1;31mKeyError\u001b[0m                                  Traceback (most recent call last)",
      "Cell \u001b[1;32mIn[4], line 1\u001b[0m\n\u001b[1;32m----> 1\u001b[0m content[\u001b[39m7\u001b[39;49m][\u001b[39m'\u001b[39;49m\u001b[39mretweeted_status\u001b[39;49m\u001b[39m'\u001b[39;49m][\u001b[39m'\u001b[39m\u001b[39muser\u001b[39m\u001b[39m'\u001b[39m][\u001b[39m'\u001b[39m\u001b[39mscreen_name\u001b[39m\u001b[39m'\u001b[39m]\n",
      "\u001b[1;31mKeyError\u001b[0m: 'retweeted_status'"
     ]
    }
   ],
   "source": [
    "content[7]['retweeted_status']['user']['screen_name']"
   ]
  },
  {
   "cell_type": "code",
   "execution_count": 28,
   "metadata": {},
   "outputs": [
    {
     "data": {
      "text/plain": [
       "200"
      ]
     },
     "execution_count": 28,
     "metadata": {},
     "output_type": "execute_result"
    }
   ],
   "source": [
    "scraper.send_status()"
   ]
  },
  {
   "cell_type": "code",
   "execution_count": 39,
   "metadata": {},
   "outputs": [
    {
     "data": {
      "text/plain": [
       "{'008jCdW0gy1hfx9r71725j33402c07wj': {'thumbnail': {'url': 'https://wx4.sinaimg.cn/wap180/008jCdW0gy1hfx9r71725j33402c07wj.jpg',\n",
       "   'width': 180,\n",
       "   'height': 134,\n",
       "   'cut_type': 1,\n",
       "   'type': ''},\n",
       "  'bmiddle': {'url': 'https://wx4.sinaimg.cn/wap360/008jCdW0gy1hfx9r71725j33402c07wj.jpg',\n",
       "   'width': 360,\n",
       "   'height': 269,\n",
       "   'cut_type': 1,\n",
       "   'type': ''},\n",
       "  'large': {'url': 'https://wx4.sinaimg.cn/orj960/008jCdW0gy1hfx9r71725j33402c07wj.jpg',\n",
       "   'width': 1280,\n",
       "   'height': 960,\n",
       "   'cut_type': 1,\n",
       "   'type': ''},\n",
       "  'original': {'url': 'https://wx4.sinaimg.cn/orj1080/008jCdW0gy1hfx9r71725j33402c07wj.jpg',\n",
       "   'width': 1440,\n",
       "   'height': 1080,\n",
       "   'cut_type': 1,\n",
       "   'type': ''},\n",
       "  'largest': {'url': 'https://wx4.sinaimg.cn/large/008jCdW0gy1hfx9r71725j33402c07wj.jpg',\n",
       "   'width': 2048,\n",
       "   'height': 1536,\n",
       "   'cut_type': 1,\n",
       "   'type': ''},\n",
       "  'mw2000': {'url': 'https://wx4.sinaimg.cn/mw2000/008jCdW0gy1hfx9r71725j33402c07wj.jpg',\n",
       "   'width': 2000,\n",
       "   'height': 1500,\n",
       "   'cut_type': 1,\n",
       "   'type': ''},\n",
       "  'focus_point': {'left': 0.16251144,\n",
       "   'top': 0.02234741,\n",
       "   'width': 0.7339479,\n",
       "   'height': 0.9776525},\n",
       "  'object_id': '1042018:b8ef447f84fbd2ca06c4f4f69d710288',\n",
       "  'pic_id': '008jCdW0gy1hfx9r71725j33402c07wj',\n",
       "  'photo_tag': 0,\n",
       "  'type': 'pic',\n",
       "  'pic_status': 1}}"
      ]
     },
     "execution_count": 39,
     "metadata": {},
     "output_type": "execute_result"
    }
   ],
   "source": [
    "content[2]['pic_infos']"
   ]
  },
  {
   "cell_type": "code",
   "execution_count": 35,
   "metadata": {},
   "outputs": [
    {
     "name": "stdout",
     "output_type": "stream",
     "text": [
      "getting weibo content... @ 2023-07-15 15:03:14.901801\n"
     ]
    }
   ],
   "source": []
  },
  {
   "cell_type": "code",
   "execution_count": null,
   "metadata": {},
   "outputs": [],
   "source": [
    "# "
   ]
  },
  {
   "cell_type": "code",
   "execution_count": 36,
   "metadata": {},
   "outputs": [],
   "source": [
    "# save content to a file\n",
    "with open('weibo_content.json', 'w') as f:\n",
    "    json.dump(content, f, indent=4, ensure_ascii=False)"
   ]
  },
  {
   "cell_type": "code",
   "execution_count": 49,
   "metadata": {},
   "outputs": [],
   "source": [
    "import requests\n",
    "\n",
    "url = 'https://wx4.sinaimg.cn/orj480/008jCdW0gy1hfxf0vgspoj30k00zkwlu.jpg'\n",
    "response = requests.get(url, stream=True)\n",
    "\n",
    "# Check if the request was successful\n",
    "if response.status_code == 200:\n",
    "    # Open the file in write binary mode\n",
    "    with open('output.jpg', 'wb') as file:\n",
    "        # Write the content of the request to file\n",
    "        for chunk in response.iter_content(1024):\n",
    "            file.write(chunk)\n"
   ]
  },
  {
   "cell_type": "code",
   "execution_count": null,
   "metadata": {},
   "outputs": [],
   "source": []
  }
 ],
 "metadata": {
  "kernelspec": {
   "display_name": "web",
   "language": "python",
   "name": "python3"
  },
  "language_info": {
   "codemirror_mode": {
    "name": "ipython",
    "version": 3
   },
   "file_extension": ".py",
   "mimetype": "text/x-python",
   "name": "python",
   "nbconvert_exporter": "python",
   "pygments_lexer": "ipython3",
   "version": "3.11.3"
  },
  "orig_nbformat": 4
 },
 "nbformat": 4,
 "nbformat_minor": 2
}
