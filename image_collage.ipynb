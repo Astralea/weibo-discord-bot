{
 "cells": [
  {
   "cell_type": "code",
   "execution_count": null,
   "metadata": {},
   "outputs": [],
   "source": []
  },
  {
   "cell_type": "markdown",
   "metadata": {},
   "source": [
    "* horizontal collage\n",
    "* vertical collage\n",
    "* at most nine images"
   ]
  },
  {
   "cell_type": "code",
   "execution_count": 5,
   "metadata": {},
   "outputs": [],
   "source": [
    "from PIL import Image\n",
    "\n",
    "\n",
    "def combine_images(columns, space, images):\n",
    "    rows = len(images) // columns\n",
    "    if len(images) % columns:\n",
    "        rows += 1\n",
    "    width_max = max([Image.open(image).width for image in images])\n",
    "    height_max = max([Image.open(image).height for image in images])\n",
    "    background_width = width_max*columns + (space*columns)-space\n",
    "    background_height = height_max*rows + (space*rows)-space\n",
    "    background = Image.new('RGBA', (background_width, background_height), (255, 255, 255, 255))\n",
    "    x = 0\n",
    "    y = 0\n",
    "    for i, image in enumerate(images):\n",
    "        img = Image.open(image)\n",
    "        x_offset = int((width_max-img.width)/2)\n",
    "        y_offset = int((height_max-img.height)/2)\n",
    "        background.paste(img, (x+x_offset, y+y_offset))\n",
    "        x += width_max + space\n",
    "        if (i+1) % columns == 0:\n",
    "            y += height_max + space\n",
    "            x = 0\n",
    "    background.save('image.png')\n",
    "\n"
   ]
  },
  {
   "cell_type": "code",
   "execution_count": 6,
   "metadata": {},
   "outputs": [],
   "source": [
    "images=['./images/84d923b2-f26c-40e3-b911-0d812d16fab2.jpg','./images/90be909b-ee96-461f-9c32-5f527d53244f.jpg','./images/f3bbd123-acda-4aff-9ce6-1c4fa12fe359.jpg']"
   ]
  },
  {
   "cell_type": "code",
   "execution_count": 7,
   "metadata": {},
   "outputs": [],
   "source": [
    "filename='collage.jpg'"
   ]
  },
  {
   "cell_type": "code",
   "execution_count": 9,
   "metadata": {},
   "outputs": [],
   "source": [
    "combine_images(columns=2, space=20, images=images)\n"
   ]
  },
  {
   "cell_type": "code",
   "execution_count": null,
   "metadata": {},
   "outputs": [],
   "source": []
  }
 ],
 "metadata": {
  "kernelspec": {
   "display_name": "web",
   "language": "python",
   "name": "python3"
  },
  "language_info": {
   "codemirror_mode": {
    "name": "ipython",
    "version": 3
   },
   "file_extension": ".py",
   "mimetype": "text/x-python",
   "name": "python",
   "nbconvert_exporter": "python",
   "pygments_lexer": "ipython3",
   "version": "3.11.3"
  },
  "orig_nbformat": 4
 },
 "nbformat": 4,
 "nbformat_minor": 2
}
