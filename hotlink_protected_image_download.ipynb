{
 "cells": [
  {
   "cell_type": "code",
   "execution_count": 1,
   "metadata": {},
   "outputs": [],
   "source": [
    "import requests\n",
    "\n",
    "url = \"https://tvax4.sinaimg.cn/crop.0.0.1080.1080.180/008jCdW0ly8hfdxzryxz7j30u00u0gpc.jpg?KID=imgbed,tva&Expires=1688321214&ssig=R6tSpSs9Pv\"\n",
    "response = requests.get(url) #stream value doesn't matter\n",
    "\n",
    "if response.status_code == 200:\n",
    "    with open(\"image.jpg\", 'wb') as f:\n",
    "        f.write(response.content)\n",
    "else:\n",
    "    print(\"Unable to download image. HTTP response code:\", response.status_code)\n"
   ]
  },
  {
   "cell_type": "code",
   "execution_count": null,
   "metadata": {},
   "outputs": [],
   "source": []
  }
 ],
 "metadata": {
  "kernelspec": {
   "display_name": "web",
   "language": "python",
   "name": "python3"
  },
  "language_info": {
   "codemirror_mode": {
    "name": "ipython",
    "version": 3
   },
   "file_extension": ".py",
   "mimetype": "text/x-python",
   "name": "python",
   "nbconvert_exporter": "python",
   "pygments_lexer": "ipython3",
   "version": "3.11.3"
  },
  "orig_nbformat": 4
 },
 "nbformat": 4,
 "nbformat_minor": 2
}
